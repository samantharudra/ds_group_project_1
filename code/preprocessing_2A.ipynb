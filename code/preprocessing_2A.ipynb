{
 "cells": [
  {
   "cell_type": "markdown",
   "id": "5d60e11c-9250-4e2b-8549-35a927dc5c0f",
   "metadata": {},
   "source": [
    "# Question 2 - Tezpur University Android Malware Dataset\n",
    "\n",
    "## Task A: Dataset Curation and Preprocessing"
   ]
  },
  {
   "cell_type": "code",
   "execution_count": 1,
   "id": "cbd3844e-2468-4f4c-b698-a968ff4025f9",
   "metadata": {},
   "outputs": [
    {
     "name": "stderr",
     "output_type": "stream",
     "text": [
      "C:\\Users\\Samantha\\anaconda_work\\lib\\site-packages\\pandas\\core\\computation\\expressions.py:21: UserWarning: Pandas requires version '2.8.4' or newer of 'numexpr' (version '2.8.1' currently installed).\n",
      "  from pandas.core.computation.check import NUMEXPR_INSTALLED\n",
      "C:\\Users\\Samantha\\anaconda_work\\lib\\site-packages\\pandas\\core\\arrays\\masked.py:60: UserWarning: Pandas requires version '1.3.6' or newer of 'bottleneck' (version '1.3.4' currently installed).\n",
      "  from pandas.core import (\n"
     ]
    }
   ],
   "source": [
    "import numpy as np\n",
    "import pandas as pd\n",
    "import matplotlib.pyplot as plt\n",
    "import statsmodels.api as sm\n",
    "from sklearn import datasets\n",
    "from sklearn.model_selection import train_test_split\n",
    "import seaborn as sns\n",
    "from sklearn.linear_model import Lasso, Ridge, ElasticNet\n",
    "from sklearn.metrics import mean_squared_error, mean_absolute_error, r2_score\n",
    "import imblearn\n",
    "from imblearn.over_sampling import SMOTE\n",
    "from sklearn.decomposition import PCA\n",
    "from sklearn.preprocessing import StandardScaler\n",
    "from statsmodels.stats.outliers_influence import variance_inflation_factor"
   ]
  },
  {
   "cell_type": "code",
   "execution_count": 2,
   "id": "0ae53af2-9d25-4a88-8ab4-fc040159e18b",
   "metadata": {},
   "outputs": [
    {
     "data": {
      "text/html": [
       "<div>\n",
       "<style scoped>\n",
       "    .dataframe tbody tr th:only-of-type {\n",
       "        vertical-align: middle;\n",
       "    }\n",
       "\n",
       "    .dataframe tbody tr th {\n",
       "        vertical-align: top;\n",
       "    }\n",
       "\n",
       "    .dataframe thead th {\n",
       "        text-align: right;\n",
       "    }\n",
       "</style>\n",
       "<table border=\"1\" class=\"dataframe\">\n",
       "  <thead>\n",
       "    <tr style=\"text-align: right;\">\n",
       "      <th></th>\n",
       "      <th>ACCESS_ALL_DOWNLOADS</th>\n",
       "      <th>ACCESS_CACHE_FILESYSTEM</th>\n",
       "      <th>ACCESS_CHECKIN_PROPERTIES</th>\n",
       "      <th>ACCESS_COARSE_LOCATION</th>\n",
       "      <th>ACCESS_COARSE_UPDATES</th>\n",
       "      <th>ACCESS_FINE_LOCATION</th>\n",
       "      <th>ACCESS_LOCATION_EXTRA_COMMANDS</th>\n",
       "      <th>ACCESS_MOCK_LOCATION</th>\n",
       "      <th>ACCESS_MTK_MMHW</th>\n",
       "      <th>ACCESS_NETWORK_STATE</th>\n",
       "      <th>...</th>\n",
       "      <th>Landroid/telephony/TelephonyManager;-&gt;getLine1Number</th>\n",
       "      <th>Landroid/telephony/TelephonyManager;-&gt;getNetworkOperator</th>\n",
       "      <th>Landroid/telephony/TelephonyManager;-&gt;getNetworkOperatorName</th>\n",
       "      <th>Landroid/telephony/TelephonyManager;-&gt;getNetworkCountryIso</th>\n",
       "      <th>Landroid/telephony/TelephonyManager;-&gt;getSimOperator</th>\n",
       "      <th>Landroid/telephony/TelephonyManager;-&gt;getSimOperatorName</th>\n",
       "      <th>Landroid/telephony/TelephonyManager;-&gt;getSimCountryIso</th>\n",
       "      <th>Landroid/telephony/TelephonyManager;-&gt;getSimSerialNumber</th>\n",
       "      <th>Lorg/apache/http/impl/client/DefaultHttpClient;-&gt;execute</th>\n",
       "      <th>Label</th>\n",
       "    </tr>\n",
       "  </thead>\n",
       "  <tbody>\n",
       "    <tr>\n",
       "      <th>0</th>\n",
       "      <td>0.0</td>\n",
       "      <td>0.0</td>\n",
       "      <td>0.0</td>\n",
       "      <td>0.0</td>\n",
       "      <td>0.0</td>\n",
       "      <td>0.0</td>\n",
       "      <td>0.0</td>\n",
       "      <td>0.0</td>\n",
       "      <td>0.0</td>\n",
       "      <td>1.0</td>\n",
       "      <td>...</td>\n",
       "      <td>1.0</td>\n",
       "      <td>1.0</td>\n",
       "      <td>1.0</td>\n",
       "      <td>0.0</td>\n",
       "      <td>0.0</td>\n",
       "      <td>0.0</td>\n",
       "      <td>0.0</td>\n",
       "      <td>0.0</td>\n",
       "      <td>1.0</td>\n",
       "      <td>malware</td>\n",
       "    </tr>\n",
       "    <tr>\n",
       "      <th>1</th>\n",
       "      <td>0.0</td>\n",
       "      <td>0.0</td>\n",
       "      <td>0.0</td>\n",
       "      <td>0.0</td>\n",
       "      <td>0.0</td>\n",
       "      <td>0.0</td>\n",
       "      <td>0.0</td>\n",
       "      <td>0.0</td>\n",
       "      <td>0.0</td>\n",
       "      <td>1.0</td>\n",
       "      <td>...</td>\n",
       "      <td>0.0</td>\n",
       "      <td>0.0</td>\n",
       "      <td>0.0</td>\n",
       "      <td>1.0</td>\n",
       "      <td>0.0</td>\n",
       "      <td>0.0</td>\n",
       "      <td>1.0</td>\n",
       "      <td>0.0</td>\n",
       "      <td>0.0</td>\n",
       "      <td>malware</td>\n",
       "    </tr>\n",
       "    <tr>\n",
       "      <th>2</th>\n",
       "      <td>0.0</td>\n",
       "      <td>0.0</td>\n",
       "      <td>0.0</td>\n",
       "      <td>0.0</td>\n",
       "      <td>0.0</td>\n",
       "      <td>0.0</td>\n",
       "      <td>0.0</td>\n",
       "      <td>0.0</td>\n",
       "      <td>0.0</td>\n",
       "      <td>1.0</td>\n",
       "      <td>...</td>\n",
       "      <td>0.0</td>\n",
       "      <td>0.0</td>\n",
       "      <td>0.0</td>\n",
       "      <td>0.0</td>\n",
       "      <td>0.0</td>\n",
       "      <td>0.0</td>\n",
       "      <td>0.0</td>\n",
       "      <td>0.0</td>\n",
       "      <td>0.0</td>\n",
       "      <td>malware</td>\n",
       "    </tr>\n",
       "    <tr>\n",
       "      <th>3</th>\n",
       "      <td>0.0</td>\n",
       "      <td>0.0</td>\n",
       "      <td>0.0</td>\n",
       "      <td>0.0</td>\n",
       "      <td>0.0</td>\n",
       "      <td>0.0</td>\n",
       "      <td>0.0</td>\n",
       "      <td>0.0</td>\n",
       "      <td>0.0</td>\n",
       "      <td>0.0</td>\n",
       "      <td>...</td>\n",
       "      <td>0.0</td>\n",
       "      <td>1.0</td>\n",
       "      <td>1.0</td>\n",
       "      <td>1.0</td>\n",
       "      <td>1.0</td>\n",
       "      <td>0.0</td>\n",
       "      <td>1.0</td>\n",
       "      <td>0.0</td>\n",
       "      <td>0.0</td>\n",
       "      <td>malware</td>\n",
       "    </tr>\n",
       "    <tr>\n",
       "      <th>4</th>\n",
       "      <td>0.0</td>\n",
       "      <td>0.0</td>\n",
       "      <td>0.0</td>\n",
       "      <td>0.0</td>\n",
       "      <td>0.0</td>\n",
       "      <td>0.0</td>\n",
       "      <td>0.0</td>\n",
       "      <td>0.0</td>\n",
       "      <td>0.0</td>\n",
       "      <td>0.0</td>\n",
       "      <td>...</td>\n",
       "      <td>0.0</td>\n",
       "      <td>0.0</td>\n",
       "      <td>0.0</td>\n",
       "      <td>0.0</td>\n",
       "      <td>0.0</td>\n",
       "      <td>0.0</td>\n",
       "      <td>0.0</td>\n",
       "      <td>0.0</td>\n",
       "      <td>0.0</td>\n",
       "      <td>malware</td>\n",
       "    </tr>\n",
       "  </tbody>\n",
       "</table>\n",
       "<p>5 rows × 242 columns</p>\n",
       "</div>"
      ],
      "text/plain": [
       "   ACCESS_ALL_DOWNLOADS  ACCESS_CACHE_FILESYSTEM  ACCESS_CHECKIN_PROPERTIES  \\\n",
       "0                   0.0                      0.0                        0.0   \n",
       "1                   0.0                      0.0                        0.0   \n",
       "2                   0.0                      0.0                        0.0   \n",
       "3                   0.0                      0.0                        0.0   \n",
       "4                   0.0                      0.0                        0.0   \n",
       "\n",
       "   ACCESS_COARSE_LOCATION  ACCESS_COARSE_UPDATES  ACCESS_FINE_LOCATION  \\\n",
       "0                     0.0                    0.0                   0.0   \n",
       "1                     0.0                    0.0                   0.0   \n",
       "2                     0.0                    0.0                   0.0   \n",
       "3                     0.0                    0.0                   0.0   \n",
       "4                     0.0                    0.0                   0.0   \n",
       "\n",
       "   ACCESS_LOCATION_EXTRA_COMMANDS  ACCESS_MOCK_LOCATION  ACCESS_MTK_MMHW  \\\n",
       "0                             0.0                   0.0              0.0   \n",
       "1                             0.0                   0.0              0.0   \n",
       "2                             0.0                   0.0              0.0   \n",
       "3                             0.0                   0.0              0.0   \n",
       "4                             0.0                   0.0              0.0   \n",
       "\n",
       "   ACCESS_NETWORK_STATE  ...  \\\n",
       "0                   1.0  ...   \n",
       "1                   1.0  ...   \n",
       "2                   1.0  ...   \n",
       "3                   0.0  ...   \n",
       "4                   0.0  ...   \n",
       "\n",
       "   Landroid/telephony/TelephonyManager;->getLine1Number  \\\n",
       "0                                                1.0      \n",
       "1                                                0.0      \n",
       "2                                                0.0      \n",
       "3                                                0.0      \n",
       "4                                                0.0      \n",
       "\n",
       "   Landroid/telephony/TelephonyManager;->getNetworkOperator  \\\n",
       "0                                                1.0          \n",
       "1                                                0.0          \n",
       "2                                                0.0          \n",
       "3                                                1.0          \n",
       "4                                                0.0          \n",
       "\n",
       "   Landroid/telephony/TelephonyManager;->getNetworkOperatorName  \\\n",
       "0                                                1.0              \n",
       "1                                                0.0              \n",
       "2                                                0.0              \n",
       "3                                                1.0              \n",
       "4                                                0.0              \n",
       "\n",
       "   Landroid/telephony/TelephonyManager;->getNetworkCountryIso  \\\n",
       "0                                                0.0            \n",
       "1                                                1.0            \n",
       "2                                                0.0            \n",
       "3                                                1.0            \n",
       "4                                                0.0            \n",
       "\n",
       "   Landroid/telephony/TelephonyManager;->getSimOperator  \\\n",
       "0                                                0.0      \n",
       "1                                                0.0      \n",
       "2                                                0.0      \n",
       "3                                                1.0      \n",
       "4                                                0.0      \n",
       "\n",
       "   Landroid/telephony/TelephonyManager;->getSimOperatorName  \\\n",
       "0                                                0.0          \n",
       "1                                                0.0          \n",
       "2                                                0.0          \n",
       "3                                                0.0          \n",
       "4                                                0.0          \n",
       "\n",
       "   Landroid/telephony/TelephonyManager;->getSimCountryIso  \\\n",
       "0                                                0.0        \n",
       "1                                                1.0        \n",
       "2                                                0.0        \n",
       "3                                                1.0        \n",
       "4                                                0.0        \n",
       "\n",
       "   Landroid/telephony/TelephonyManager;->getSimSerialNumber  \\\n",
       "0                                                0.0          \n",
       "1                                                0.0          \n",
       "2                                                0.0          \n",
       "3                                                0.0          \n",
       "4                                                0.0          \n",
       "\n",
       "   Lorg/apache/http/impl/client/DefaultHttpClient;->execute    Label  \n",
       "0                                                1.0         malware  \n",
       "1                                                0.0         malware  \n",
       "2                                                0.0         malware  \n",
       "3                                                0.0         malware  \n",
       "4                                                0.0         malware  \n",
       "\n",
       "[5 rows x 242 columns]"
      ]
     },
     "execution_count": 2,
     "metadata": {},
     "output_type": "execute_result"
    }
   ],
   "source": [
    "# Import data \n",
    "\n",
    "malware = pd.read_csv('../data/raw/TUANDROMD.csv')\n",
    "malware.head()"
   ]
  },
  {
   "cell_type": "code",
   "execution_count": 3,
   "id": "63d1cb1c-6bdd-4210-b8e4-53e52c9e2ffe",
   "metadata": {},
   "outputs": [],
   "source": [
    "# Drop rows with NaN in any column\n",
    "malware = malware.dropna()"
   ]
  },
  {
   "cell_type": "code",
   "execution_count": 4,
   "id": "c224a331-33b5-48d3-ac33-c0f151031515",
   "metadata": {},
   "outputs": [
    {
     "data": {
      "text/plain": [
       "False"
      ]
     },
     "execution_count": 4,
     "metadata": {},
     "output_type": "execute_result"
    }
   ],
   "source": [
    "malware.isna().any().any()"
   ]
  },
  {
   "cell_type": "code",
   "execution_count": 5,
   "id": "5d1616ee-f657-440a-adbf-3a457f86f0be",
   "metadata": {},
   "outputs": [
    {
     "data": {
      "text/html": [
       "<div>\n",
       "<style scoped>\n",
       "    .dataframe tbody tr th:only-of-type {\n",
       "        vertical-align: middle;\n",
       "    }\n",
       "\n",
       "    .dataframe tbody tr th {\n",
       "        vertical-align: top;\n",
       "    }\n",
       "\n",
       "    .dataframe thead th {\n",
       "        text-align: right;\n",
       "    }\n",
       "</style>\n",
       "<table border=\"1\" class=\"dataframe\">\n",
       "  <thead>\n",
       "    <tr style=\"text-align: right;\">\n",
       "      <th></th>\n",
       "      <th>ACCESS_ALL_DOWNLOADS</th>\n",
       "      <th>ACCESS_CACHE_FILESYSTEM</th>\n",
       "      <th>ACCESS_CHECKIN_PROPERTIES</th>\n",
       "      <th>ACCESS_COARSE_LOCATION</th>\n",
       "      <th>ACCESS_COARSE_UPDATES</th>\n",
       "      <th>ACCESS_FINE_LOCATION</th>\n",
       "      <th>ACCESS_LOCATION_EXTRA_COMMANDS</th>\n",
       "      <th>ACCESS_MOCK_LOCATION</th>\n",
       "      <th>ACCESS_MTK_MMHW</th>\n",
       "      <th>ACCESS_NETWORK_STATE</th>\n",
       "      <th>...</th>\n",
       "      <th>Landroid/telephony/TelephonyManager;-&gt;getLine1Number</th>\n",
       "      <th>Landroid/telephony/TelephonyManager;-&gt;getNetworkOperator</th>\n",
       "      <th>Landroid/telephony/TelephonyManager;-&gt;getNetworkOperatorName</th>\n",
       "      <th>Landroid/telephony/TelephonyManager;-&gt;getNetworkCountryIso</th>\n",
       "      <th>Landroid/telephony/TelephonyManager;-&gt;getSimOperator</th>\n",
       "      <th>Landroid/telephony/TelephonyManager;-&gt;getSimOperatorName</th>\n",
       "      <th>Landroid/telephony/TelephonyManager;-&gt;getSimCountryIso</th>\n",
       "      <th>Landroid/telephony/TelephonyManager;-&gt;getSimSerialNumber</th>\n",
       "      <th>Lorg/apache/http/impl/client/DefaultHttpClient;-&gt;execute</th>\n",
       "      <th>Label</th>\n",
       "    </tr>\n",
       "  </thead>\n",
       "  <tbody>\n",
       "  </tbody>\n",
       "</table>\n",
       "<p>0 rows × 242 columns</p>\n",
       "</div>"
      ],
      "text/plain": [
       "Empty DataFrame\n",
       "Columns: [ACCESS_ALL_DOWNLOADS, ACCESS_CACHE_FILESYSTEM, ACCESS_CHECKIN_PROPERTIES, ACCESS_COARSE_LOCATION, ACCESS_COARSE_UPDATES, ACCESS_FINE_LOCATION, ACCESS_LOCATION_EXTRA_COMMANDS, ACCESS_MOCK_LOCATION, ACCESS_MTK_MMHW, ACCESS_NETWORK_STATE, ACCESS_PROVIDER, ACCESS_SERVICE, ACCESS_SHARED_DATA, ACCESS_SUPERUSER, ACCESS_SURFACE_FLINGER, ACCESS_WIFI_STATE, activityCalled, ACTIVITY_RECOGNITION, ACCOUNT_MANAGER, ADD_VOICEMAIL, ANT, ANT_ADMIN, AUTHENTICATE_ACCOUNTS, AUTORUN_MANAGER_LICENSE_MANAGER, AUTORUN_MANAGER_LICENSE_SERVICE(.autorun), BATTERY_STATS, BILLING, BIND_ACCESSIBILITY_SERVICE, BIND_APPWIDGET, BIND_CARRIER_MESSAGING_SERVICE, BIND_DEVICE_ADMIN, BIND_DREAM_SERVICE, BIND_GET_INSTALL_REFERRER_SERVICE, BIND_INPUT_METHOD, BIND_NFC_SERVICE, BIND_goodwareTIFICATION_LISTENER_SERVICE, BIND_PRINT_SERVICE, BIND_REMOTEVIEWS, BIND_TEXT_SERVICE, BIND_TV_INPUT, BIND_VOICE_INTERACTION, BIND_VPN_SERVICE, BIND_WALLPAPER, BLUETOOTH, BLUETOOTH_ADMIN, BLUETOOTH_PRIVILEGED, BODY_SENSORS, BRICK, BROADCAST_PACKAGE_REMOVED, BROADCAST_SMS, BROADCAST_STICKY, BROADCAST_WAP_PUSH, C2D_MESSAGE, CALL_PHONE, CALL_PRIVILEGED, CAMERA, CAPTURE_AUDIO_OUTPUT, CAPTURE_SECURE_VIDEO_OUTPUT, CAPTURE_VIDEO_OUTPUT, CHANGE_COMPONENT_ENABLED_STATE, CHANGE_CONFIGURATION, CHANGE_DISPLAY_MODE, CHANGE_NETWORK_STATE, CHANGE_WIFI_MULTICAST_STATE, CHANGE_WIFI_STATE, CHECK_LICENSE, CLEAR_APP_CACHE, CLEAR_APP_USER_DATA, CONTROL_LOCATION_UPDATES, DATABASE_INTERFACE_SERVICE, DELETE_CACHE_FILES, DELETE_PACKAGES, DEVICE_POWER, DIAGgoodwareSTIC, DISABLE_KEYGUARD, DOWNLOAD_SERVICE, DOWNLOAD_WITHOUT_goodwareTIFICATION, DUMP, EXPAND_STATUS_BAR, EXTENSION_PERMISSION, FACTORY_TEST, FLASHLIGHT, FORCE_BACK, FULLSCREEN.FULL, GET_ACCOUNTS, GET_PACKAGE_SIZE, GET_TASKS, GET_TOP_ACTIVITY_INFO, GLOBAL_SEARCH, GOOGLE_AUTH, GOOGLE_PHOTOS, HARDWARE_TEST, INJECT_EVENTS, INSTALL_LOCATION_PROVIDER, INSTALL_PACKAGES, INSTALL_SHORTCUT, INTERACT_ACROSS_USERS, INTERNAL_SYSTEM_WINDOW, INTERNET, JPUSH_MESSAGE, ...]\n",
       "Index: []\n",
       "\n",
       "[0 rows x 242 columns]"
      ]
     },
     "execution_count": 5,
     "metadata": {},
     "output_type": "execute_result"
    }
   ],
   "source": [
    "malware[malware.isna().any(axis=1)]"
   ]
  },
  {
   "cell_type": "markdown",
   "id": "56cfc363-b14c-4706-b489-73a1e366c221",
   "metadata": {},
   "source": [
    "### 1. Describe and implement preprocessing steps specific to this problem, including strategies for handling imbalanced classes, encoding categorical variables, and any data transformation techniques applied"
   ]
  },
  {
   "cell_type": "code",
   "execution_count": 6,
   "id": "321f355f-6992-469f-b8c8-383e3a1deb17",
   "metadata": {},
   "outputs": [
    {
     "data": {
      "text/plain": [
       "Index(['Label'], dtype='object')"
      ]
     },
     "execution_count": 6,
     "metadata": {},
     "output_type": "execute_result"
    }
   ],
   "source": [
    "malware.select_dtypes(exclude = ['number']).columns"
   ]
  },
  {
   "cell_type": "code",
   "execution_count": 7,
   "id": "e89e2dae-3dcb-43b6-a88d-8e08f4e60b2a",
   "metadata": {},
   "outputs": [
    {
     "name": "stderr",
     "output_type": "stream",
     "text": [
      "C:\\Users\\Samantha\\AppData\\Local\\Temp\\ipykernel_1964\\1615791745.py:1: FutureWarning: Downcasting behavior in `replace` is deprecated and will be removed in a future version. To retain the old behavior, explicitly call `result.infer_objects(copy=False)`. To opt-in to the future behavior, set `pd.set_option('future.no_silent_downcasting', True)`\n",
      "  malware['Label'] = malware['Label'].replace({'malware': 1, 'goodware': 0}).astype('int')\n"
     ]
    }
   ],
   "source": [
    "malware['Label'] = malware['Label'].replace({'malware': 1, 'goodware': 0}).astype('int')"
   ]
  },
  {
   "cell_type": "markdown",
   "id": "9a8c7a79-4773-44dd-bb0e-bb232a2f3625",
   "metadata": {},
   "source": [
    "Since the dataset is preprocessed with all binary features and no missing values to begin with, we explore any class imbalances and ensure any categorical variables are encoded. "
   ]
  },
  {
   "cell_type": "code",
   "execution_count": 8,
   "id": "74095320-f657-4f9d-85e0-65ebd129a749",
   "metadata": {},
   "outputs": [
    {
     "name": "stdout",
     "output_type": "stream",
     "text": [
      "Class distribution (sum of each class):\n",
      " Label\n",
      "1    3565\n",
      "0     899\n",
      "Name: count, dtype: int64\n",
      "Class distribution percentage:\n",
      " Label\n",
      "1    79.861111\n",
      "0    20.138889\n",
      "Name: proportion, dtype: float64\n"
     ]
    }
   ],
   "source": [
    "# Check the distribution of each target \n",
    "target_distribution = malware['Label'].value_counts()\n",
    "print(\"Class distribution (sum of each class):\\n\", target_distribution)\n",
    "\n",
    "# Check the distribution percentage of each class\n",
    "label_distribution_percentage = malware['Label'].value_counts(normalize=True) * 100\n",
    "\n",
    "# Check the result\n",
    "print(\"Class distribution percentage:\\n\", label_distribution_percentage)"
   ]
  },
  {
   "cell_type": "code",
   "execution_count": 9,
   "id": "6afa77fc-094b-4e84-a802-420e7675c1c0",
   "metadata": {},
   "outputs": [
    {
     "data": {
      "image/png": "[encoded data removed]",
      "text/plain": [
       "<Figure size 432x288 with 1 Axes>"
      ]
     },
     "metadata": {
      "needs_background": "light"
     },
     "output_type": "display_data"
    }
   ],
   "source": [
    "# Plot\n",
    "plt.bar(target_distribution.index.astype(str), target_distribution.values)  # Ensure x-ticks are strings\n",
    "plt.xlabel('Label')\n",
    "plt.ylabel('Count')\n",
    "plt.title('Distribution of Label')\n",
    "plt.xticks([0, 1], ['Malware', 'Goodware'])\n",
    "plt.show()"
   ]
  },
  {
   "cell_type": "markdown",
   "id": "a75cfaa8-456f-4755-89e6-803398c18f48",
   "metadata": {},
   "source": [
    "The distribution shows that this is a highly imbalanced dataset with the minority class being goodware which only makes up only a small percentage of the total dataset. Therefore, we implement SMOTE to create artificial minority instances. "
   ]
  },
  {
   "cell_type": "code",
   "execution_count": 10,
   "id": "cd0cb88b-52a0-4c25-b5d3-d711b29f9090",
   "metadata": {},
   "outputs": [
    {
     "name": "stdout",
     "output_type": "stream",
     "text": [
      "(4464, 241)\n",
      "(4464,)\n"
     ]
    }
   ],
   "source": [
    "# separate the features and target \n",
    "X = malware.drop(columns=['Label'])  # Features\n",
    "y = malware['Label']  # Target columns (goodware and malware)\n",
    "\n",
    "# verify the shapes of X and y\n",
    "print(X.shape)\n",
    "print(y.shape)"
   ]
  },
  {
   "cell_type": "code",
   "execution_count": 11,
   "id": "a90e3df6-9fe9-44ce-a3f2-41da2db5085c",
   "metadata": {},
   "outputs": [
    {
     "name": "stdout",
     "output_type": "stream",
     "text": [
      "Class distribution after SMOTE:\n",
      " Label\n",
      "1    3565\n",
      "0    3565\n",
      "Name: count, dtype: int64\n"
     ]
    }
   ],
   "source": [
    "# Initialize SMOTE\n",
    "smote = SMOTE(sampling_strategy='auto', random_state=42)\n",
    "\n",
    "# Apply SMOTE to balance the dataset\n",
    "X_resampled, y_resampled = smote.fit_resample(X, y)\n",
    "\n",
    "# Check the class distribution after SMOTE\n",
    "print(\"Class distribution after SMOTE:\\n\", pd.Series(y_resampled).value_counts())\n"
   ]
  },
  {
   "cell_type": "code",
   "execution_count": 12,
   "id": "7f68ccab-4268-439f-91e4-fef8fa7b2c48",
   "metadata": {},
   "outputs": [],
   "source": [
    "# Convert the resampled data back into a DataFrame\n",
    "resampled_data = pd.concat([pd.DataFrame(X_resampled, columns=X.columns), pd.Series(y_resampled, name='Label')], axis=1)"
   ]
  },
  {
   "cell_type": "code",
   "execution_count": 17,
   "id": "7cc773e4-058a-4e62-b764-56138de037a6",
   "metadata": {},
   "outputs": [],
   "source": [
    "# Export to csv\n",
    "resampled_data.to_csv('../data/preprocessed/malware_preprocessed_v2.csv', index=False)"
   ]
  },
  {
   "cell_type": "markdown",
   "id": "70893c11-bbfb-4c11-8115-602ca331494c",
   "metadata": {},
   "source": [
    "### 2. Conduct exploratory data analysis (EDA) to uncover insights related to class distributions, feature correlations, and potential predictors of interest (Tip: consider applying PCA). Summarize key findings that could influence model selection and tuning."
   ]
  },
  {
   "cell_type": "code",
   "execution_count": 13,
   "id": "af461c59-aa49-41fc-8878-0b25fb248612",
   "metadata": {
    "scrolled": true
   },
   "outputs": [
    {
     "data": {
      "image/png": "[encoded data removed]",
      "text/plain": [
       "<Figure size 576x432 with 1 Axes>"
      ]
     },
     "metadata": {
      "needs_background": "light"
     },
     "output_type": "display_data"
    }
   ],
   "source": [
    "# Plot the distribution of the target classes after SMOTE\n",
    "plt.figure(figsize=(8, 6))\n",
    "sns.countplot(x=y_resampled)\n",
    "plt.title('Class Distribution After SMOTE (Goodware vs Malware)')\n",
    "plt.xlabel('Label')\n",
    "plt.ylabel('Count')\n",
    "plt.show()"
   ]
  },
  {
   "cell_type": "markdown",
   "id": "cf0512e6-023a-42d2-b769-15f35ec7d415",
   "metadata": {},
   "source": [
    "Dataset has balances goodware and malware values - successfully addressed class imbalance with SMOTE"
   ]
  },
  {
   "cell_type": "code",
   "execution_count": 14,
   "id": "6b71bda4-507f-4a0f-94d7-a3da77f5f8f0",
   "metadata": {},
   "outputs": [
    {
     "name": "stdout",
     "output_type": "stream",
     "text": [
      "Correlation with Label:\n",
      " ACCESS_ALL_DOWNLOADS                                       -0.040366\n",
      "ACCESS_CACHE_FILESYSTEM                                    -0.056351\n",
      "ACCESS_CHECKIN_PROPERTIES                                   0.055634\n",
      "ACCESS_COARSE_LOCATION                                     -0.266325\n",
      "ACCESS_COARSE_UPDATES                                       0.066082\n",
      "                                                              ...   \n",
      "Landroid/telephony/TelephonyManager;->getSimOperatorName   -0.354905\n",
      "Landroid/telephony/TelephonyManager;->getSimCountryIso     -0.219048\n",
      "Landroid/telephony/TelephonyManager;->getSimSerialNumber   -0.084776\n",
      "Lorg/apache/http/impl/client/DefaultHttpClient;->execute    0.011590\n",
      "Label                                                       1.000000\n",
      "Length: 242, dtype: float64\n"
     ]
    },
    {
     "name": "stderr",
     "output_type": "stream",
     "text": [
      "C:\\Users\\Samantha\\anaconda_work\\lib\\site-packages\\numpy\\lib\\function_base.py:2897: RuntimeWarning: invalid value encountered in divide\n",
      "  c /= stddev[:, None]\n",
      "C:\\Users\\Samantha\\anaconda_work\\lib\\site-packages\\numpy\\lib\\function_base.py:2898: RuntimeWarning: invalid value encountered in divide\n",
      "  c /= stddev[None, :]\n"
     ]
    }
   ],
   "source": [
    "# calculate correlations with the target columns (Label_goodware and Label_malware)\n",
    "correlation_target = resampled_data.corrwith(resampled_data['Label'])\n",
    "\n",
    "# Display the correlations\n",
    "print(\"Correlation with Label:\\n\", correlation_target)"
   ]
  },
  {
   "cell_type": "code",
   "execution_count": 15,
   "id": "e6b2e7c8-477c-4095-b69a-b170f6d310f5",
   "metadata": {},
   "outputs": [
    {
     "name": "stdout",
     "output_type": "stream",
     "text": [
      "Top Correlations with Label:\n",
      " GET_TASKS                                                         0.695903\n",
      "KILL_BACKGROUND_PROCESSES                                         0.581292\n",
      "RECEIVE_BOOT_COMPLETED                                            0.748138\n",
      "Ljava/net/URL;->openConnection                                   -0.718016\n",
      "Landroid/location/LocationManager;->getLastKgoodwarewnLocation   -0.604365\n",
      "Label                                                             1.000000\n",
      "dtype: float64\n"
     ]
    }
   ],
   "source": [
    "# Filter the correlation to show only the highest correlations\n",
    "top_corr_target = correlation_target[correlation_target.abs() > 0.5]  \n",
    "\n",
    "\n",
    "print(\"Top Correlations with Label:\\n\", top_corr_target)"
   ]
  },
  {
   "cell_type": "markdown",
   "id": "09b8632a-8887-41f4-9551-c9518ae7a594",
   "metadata": {},
   "source": [
    "According to the top correlated features with goodware and malware, variables such as GET_TASKS, KILL_BACKGROUND_PROCESSES, and RECEIVE_BOOT_COMPLETED are highly correlated with malware wince applications might use these functions to spy on users, kill background processes to prevent security apps, or allow apps to launch when a device boots and reboots up. On the other hand, legitimate apps use functions like Ljava/net/URL;->openConnection and Landroid/location/LocationManager;->getLastKgoodwarewnLocation for common internet communication and fair use of location services for things like maps or ride-share. "
   ]
  },
  {
   "cell_type": "markdown",
   "id": "948636ca-2574-40cb-ae05-c8194328d1f8",
   "metadata": {},
   "source": [
    "#### Handle Perfect Multicollinearity"
   ]
  },
  {
   "cell_type": "code",
   "execution_count": 16,
   "id": "9156a1ed-6b92-4cee-a8ba-fbff8c2d167d",
   "metadata": {},
   "outputs": [
    {
     "name": "stdout",
     "output_type": "stream",
     "text": [
      "Dropping Features: ['ACCESS_SURFACE_FLINGER', 'BIND_CARRIER_MESSAGING_SERVICE', 'BIND_DREAM_SERVICE', 'BIND_INPUT_METHOD', 'BIND_NFC_SERVICE', 'BIND_PRINT_SERVICE', 'BIND_REMOTEVIEWS', 'BIND_TEXT_SERVICE', 'BIND_TV_INPUT', 'BIND_VOICE_INTERACTION', 'BIND_VPN_SERVICE', 'BIND_WALLPAPER', 'BLUETOOTH_PRIVILEGED', 'BROADCAST_PACKAGE_REMOVED', 'BROADCAST_SMS', 'BROADCAST_WAP_PUSH', 'CAPTURE_AUDIO_OUTPUT', 'CAPTURE_SECURE_VIDEO_OUTPUT', 'CAPTURE_VIDEO_OUTPUT', 'CONTROL_LOCATION_UPDATES', 'FORCE_BACK', 'GET_TOP_ACTIVITY_INFO', 'GLOBAL_SEARCH', 'INJECT_EVENTS', 'INSTALL_SHORTCUT', 'INTERNAL_SYSTEM_WINDOW', 'LOCATION_HARDWARE', 'MANAGE_APP_TOKENS', 'MANAGE_DOCUMENTS', 'READ_FRAME_BUFFER', 'READ_HISTORY_BOOKMARKS', 'READ_INPUT_STATE', 'READ_VOICEMAIL', 'SEND_RESPOND_VIA_MESSAGE', 'SET_DEBUG_APP', 'SET_POINTER_SPEED', 'SET_PROCESS_LIMIT', 'SET_TIME', 'SET_TIME_ZONE', 'SIGNAL_PERSISTENT_PROCESSES', 'SUBSCRIBED_FEEDS_WRITE', 'TRANSMIT_IR', 'UNINSTALL_SHORTCUT', 'UPDATE_DEVICE_STATS', 'USE_SIP', 'WRITE_GSERVICES', 'WRITE_HISTORY_BOOKMARKS', 'WRITE_SOCIAL_STREAM', 'WRITE_VOICEMAIL']\n"
     ]
    }
   ],
   "source": [
    "# Identify perfectly correlated features\n",
    "corr_matrix = resampled_data.corr().abs()\n",
    "upper_tri = corr_matrix.where(np.triu(np.ones(corr_matrix.shape), k=1).astype(bool))\n",
    "\n",
    "# Find columns with perfect correlation (correlation = 1)\n",
    "perfect_corr = [column for column in upper_tri.columns if any(upper_tri[column] == 1)]\n",
    "print(\"Dropping Features:\", perfect_corr)\n",
    "\n",
    "# Drop one of each pair of perfectly correlated features\n",
    "resampled_data.drop(columns=perfect_corr, inplace=True)"
   ]
  },
  {
   "cell_type": "code",
   "execution_count": 66,
   "id": "fc9b7a52-7845-448e-9f07-84672cbb78a6",
   "metadata": {},
   "outputs": [],
   "source": [
    "resampled_data.to_csv(\"../data/preprocessed/malware_preprocessed_v2.csv\")"
   ]
  },
  {
   "cell_type": "markdown",
   "id": "2d2bcef4-1f47-40d4-ac20-f0529b1762a9",
   "metadata": {},
   "source": [
    "#### PCA"
   ]
  },
  {
   "cell_type": "code",
   "execution_count": 17,
   "id": "045184a9-92e3-4afc-906a-356879c3fa46",
   "metadata": {},
   "outputs": [],
   "source": [
    "# Separate features and targets\n",
    "X_final = resampled_data.drop(columns=['Label'])  # Features\n",
    "y_final = resampled_data['Label']  # Target labels"
   ]
  },
  {
   "cell_type": "code",
   "execution_count": 18,
   "id": "a6052651-78c8-405b-bbe4-4b24a25079cc",
   "metadata": {},
   "outputs": [],
   "source": [
    "# Standardize the features for PCA\n",
    "scaler = StandardScaler()\n",
    "X_scaled = scaler.fit_transform(X_final)"
   ]
  },
  {
   "cell_type": "code",
   "execution_count": 19,
   "id": "ba7d8d8b-a5d0-48ee-939c-3ab3927c69e3",
   "metadata": {},
   "outputs": [],
   "source": [
    "# Apply PCA\n",
    "pca = PCA(n_components=2)  # Reduce to 2 components for visualization\n",
    "X_pca = pca.fit_transform(X_scaled)"
   ]
  },
  {
   "cell_type": "code",
   "execution_count": 20,
   "id": "c2cecad6-73b6-44e2-aee4-6205553d2960",
   "metadata": {},
   "outputs": [],
   "source": [
    "# Convert PCA result to a dataframe for easy viewing\n",
    "X_pca_df = pd.DataFrame(X_pca, columns=['PCA1', 'PCA2'])"
   ]
  },
  {
   "cell_type": "code",
   "execution_count": 21,
   "id": "147ec3cf-d9b4-4c99-9a01-337257a07582",
   "metadata": {},
   "outputs": [],
   "source": [
    "# Concatenate the PCA results with the target labels\n",
    "final_pca_df = pd.concat([X_pca_df, y_final], axis=1)"
   ]
  },
  {
   "cell_type": "code",
   "execution_count": 22,
   "id": "2e1f540c-9aa3-4db0-be99-9253b752cd38",
   "metadata": {},
   "outputs": [
    {
     "data": {
      "text/html": [
       "<div>\n",
       "<style scoped>\n",
       "    .dataframe tbody tr th:only-of-type {\n",
       "        vertical-align: middle;\n",
       "    }\n",
       "\n",
       "    .dataframe tbody tr th {\n",
       "        vertical-align: top;\n",
       "    }\n",
       "\n",
       "    .dataframe thead th {\n",
       "        text-align: right;\n",
       "    }\n",
       "</style>\n",
       "<table border=\"1\" class=\"dataframe\">\n",
       "  <thead>\n",
       "    <tr style=\"text-align: right;\">\n",
       "      <th></th>\n",
       "      <th>PCA1</th>\n",
       "      <th>PCA2</th>\n",
       "      <th>Label</th>\n",
       "    </tr>\n",
       "  </thead>\n",
       "  <tbody>\n",
       "    <tr>\n",
       "      <th>0</th>\n",
       "      <td>-0.321941</td>\n",
       "      <td>-1.075000</td>\n",
       "      <td>1</td>\n",
       "    </tr>\n",
       "    <tr>\n",
       "      <th>1</th>\n",
       "      <td>-1.109919</td>\n",
       "      <td>0.526185</td>\n",
       "      <td>1</td>\n",
       "    </tr>\n",
       "    <tr>\n",
       "      <th>2</th>\n",
       "      <td>-1.194217</td>\n",
       "      <td>0.633761</td>\n",
       "      <td>1</td>\n",
       "    </tr>\n",
       "    <tr>\n",
       "      <th>3</th>\n",
       "      <td>-0.911590</td>\n",
       "      <td>0.108954</td>\n",
       "      <td>1</td>\n",
       "    </tr>\n",
       "    <tr>\n",
       "      <th>4</th>\n",
       "      <td>-1.526129</td>\n",
       "      <td>1.478503</td>\n",
       "      <td>1</td>\n",
       "    </tr>\n",
       "  </tbody>\n",
       "</table>\n",
       "</div>"
      ],
      "text/plain": [
       "       PCA1      PCA2  Label\n",
       "0 -0.321941 -1.075000      1\n",
       "1 -1.109919  0.526185      1\n",
       "2 -1.194217  0.633761      1\n",
       "3 -0.911590  0.108954      1\n",
       "4 -1.526129  1.478503      1"
      ]
     },
     "execution_count": 22,
     "metadata": {},
     "output_type": "execute_result"
    }
   ],
   "source": [
    "# Display the first few rows of the PCA-transformed data\n",
    "final_pca_df.head()"
   ]
  },
  {
   "cell_type": "code",
   "execution_count": 23,
   "id": "0dcac57c-0fb7-4051-b821-4435e9e99602",
   "metadata": {},
   "outputs": [
    {
     "data": {
      "image/png": "[encoded data removed]",
      "text/plain": [
       "<Figure size 576x432 with 2 Axes>"
      ]
     },
     "metadata": {
      "needs_background": "light"
     },
     "output_type": "display_data"
    },
    {
     "name": "stdout",
     "output_type": "stream",
     "text": [
      "Explained variance by each component: [0.28392712 0.09635104]\n"
     ]
    }
   ],
   "source": [
    "plt.figure(figsize=(8, 6))\n",
    "plt.scatter(final_pca_df['PCA1'], final_pca_df['PCA2'], c=final_pca_df['Label'], cmap='viridis', alpha=0.5)\n",
    "plt.title('PCA of Malware Dataset (Goodware vs Malware)')\n",
    "plt.xlabel('PCA1')\n",
    "plt.ylabel('PCA2')\n",
    "plt.colorbar(label='Goodware (1) vs Malware (0)')\n",
    "plt.show()\n",
    "\n",
    "# Check the explained variance to understand how much variance is captured by the components\n",
    "print(f\"Explained variance by each component: {pca.explained_variance_ratio_}\")"
   ]
  },
  {
   "cell_type": "markdown",
   "id": "58a2f3fa-678e-49ed-8731-6678882f6569",
   "metadata": {},
   "source": [
    "The PCA plot shows distinct clusters, suggesting that malware and goodware have some differences in their features. A few of the yellow goodware points are clearly separated from the more dense malware cluster, meaning PCA is capturing some distinguishing characteristics. There is, however, some overlap indicating that some of the goodware and malware samples have similar feature representations. \n",
    "\n",
    "The first two components explain 28.39% (PCA 1) and 9.63% (PCA 2) of the total variance. Most of the dataset's variance is therefore not captured in just these two dimensions, but it is a good initial exploration in determining important features. Below we implement more components for further separation. "
   ]
  },
  {
   "cell_type": "code",
   "execution_count": 24,
   "id": "efe2f837-3d26-431f-9219-5728e197ff8b",
   "metadata": {},
   "outputs": [],
   "source": [
    "# Apply PCA with more components \n",
    "\n",
    "pca1 = PCA(n_components=5) \n",
    "X_pca1 = pca1.fit_transform(X_scaled)"
   ]
  },
  {
   "cell_type": "code",
   "execution_count": 25,
   "id": "c31ec04f-d08e-44db-aee6-2b5428b91dbd",
   "metadata": {},
   "outputs": [],
   "source": [
    "# Convert PCA result to a dataframe for easy viewing\n",
    "X_pca_df1 = pd.DataFrame(X_pca1, columns=['PCA1', 'PCA2', 'PCA3', 'PCA4', 'PCA5'])"
   ]
  },
  {
   "cell_type": "code",
   "execution_count": 26,
   "id": "57c82d8a-5cc4-4548-be33-cdb990ef3122",
   "metadata": {},
   "outputs": [],
   "source": [
    "# Concatenate the PCA results with the target labels once again\n",
    "final_pca_df = pd.concat([X_pca_df1, y_final], axis=1)"
   ]
  },
  {
   "cell_type": "code",
   "execution_count": 27,
   "id": "446844f8-fa65-4953-9b29-a3ce3687b696",
   "metadata": {},
   "outputs": [
    {
     "data": {
      "text/html": [
       "<div>\n",
       "<style scoped>\n",
       "    .dataframe tbody tr th:only-of-type {\n",
       "        vertical-align: middle;\n",
       "    }\n",
       "\n",
       "    .dataframe tbody tr th {\n",
       "        vertical-align: top;\n",
       "    }\n",
       "\n",
       "    .dataframe thead th {\n",
       "        text-align: right;\n",
       "    }\n",
       "</style>\n",
       "<table border=\"1\" class=\"dataframe\">\n",
       "  <thead>\n",
       "    <tr style=\"text-align: right;\">\n",
       "      <th></th>\n",
       "      <th>PCA1</th>\n",
       "      <th>PCA2</th>\n",
       "      <th>PCA3</th>\n",
       "      <th>PCA4</th>\n",
       "      <th>PCA5</th>\n",
       "      <th>Label</th>\n",
       "    </tr>\n",
       "  </thead>\n",
       "  <tbody>\n",
       "    <tr>\n",
       "      <th>0</th>\n",
       "      <td>-0.321941</td>\n",
       "      <td>-1.075000</td>\n",
       "      <td>2.616770</td>\n",
       "      <td>5.649348</td>\n",
       "      <td>4.922564</td>\n",
       "      <td>1</td>\n",
       "    </tr>\n",
       "    <tr>\n",
       "      <th>1</th>\n",
       "      <td>-1.109919</td>\n",
       "      <td>0.526185</td>\n",
       "      <td>-0.824018</td>\n",
       "      <td>0.135846</td>\n",
       "      <td>-0.455579</td>\n",
       "      <td>1</td>\n",
       "    </tr>\n",
       "    <tr>\n",
       "      <th>2</th>\n",
       "      <td>-1.194217</td>\n",
       "      <td>0.633761</td>\n",
       "      <td>-0.797332</td>\n",
       "      <td>-0.297562</td>\n",
       "      <td>0.950470</td>\n",
       "      <td>1</td>\n",
       "    </tr>\n",
       "    <tr>\n",
       "      <th>3</th>\n",
       "      <td>-0.911590</td>\n",
       "      <td>0.108954</td>\n",
       "      <td>0.151365</td>\n",
       "      <td>1.282177</td>\n",
       "      <td>-0.757183</td>\n",
       "      <td>1</td>\n",
       "    </tr>\n",
       "    <tr>\n",
       "      <th>4</th>\n",
       "      <td>-1.526129</td>\n",
       "      <td>1.478503</td>\n",
       "      <td>-3.144332</td>\n",
       "      <td>-2.108343</td>\n",
       "      <td>-0.048972</td>\n",
       "      <td>1</td>\n",
       "    </tr>\n",
       "  </tbody>\n",
       "</table>\n",
       "</div>"
      ],
      "text/plain": [
       "       PCA1      PCA2      PCA3      PCA4      PCA5  Label\n",
       "0 -0.321941 -1.075000  2.616770  5.649348  4.922564      1\n",
       "1 -1.109919  0.526185 -0.824018  0.135846 -0.455579      1\n",
       "2 -1.194217  0.633761 -0.797332 -0.297562  0.950470      1\n",
       "3 -0.911590  0.108954  0.151365  1.282177 -0.757183      1\n",
       "4 -1.526129  1.478503 -3.144332 -2.108343 -0.048972      1"
      ]
     },
     "execution_count": 27,
     "metadata": {},
     "output_type": "execute_result"
    }
   ],
   "source": [
    "# Display the first few rows of the PCA-transformed data (n=5)\n",
    "final_pca_df.head()"
   ]
  },
  {
   "cell_type": "code",
   "execution_count": 28,
   "id": "587436f2-091e-44c4-bf14-c2a9320488f5",
   "metadata": {},
   "outputs": [
    {
     "name": "stdout",
     "output_type": "stream",
     "text": [
      "Explained Variance Ratio by Component:\n",
      "PCA 1: 0.2839\n",
      "PCA 2: 0.0964\n",
      "PCA 3: 0.0698\n",
      "PCA 4: 0.0467\n",
      "PCA 5: 0.0376\n"
     ]
    }
   ],
   "source": [
    "# Explained variance of each component\n",
    "explained_variance = pca1.explained_variance_ratio_\n",
    "\n",
    "# Print explained variance for each component\n",
    "print(\"Explained Variance Ratio by Component:\")\n",
    "for i, var in enumerate(explained_variance):\n",
    "    print(f\"PCA {i+1}: {var:.4f}\")"
   ]
  },
  {
   "cell_type": "code",
   "execution_count": 29,
   "id": "a9e65b09-2746-4eb6-b6be-19274b54a7ae",
   "metadata": {},
   "outputs": [
    {
     "name": "stdout",
     "output_type": "stream",
     "text": [
      "READ_SOCIAL_STREAM                0.136755\n",
      "SUBSCRIBED_FEEDS_READ             0.136043\n",
      "PERSISTENT_ACTIVITY               0.134891\n",
      "ACCESS_LOCATION_EXTRA_COMMANDS    0.133934\n",
      "WRITE_USER_DICTIONARY             0.132856\n",
      "WRITE_PROFILE                     0.132346\n",
      "READ_SYNC_STATS                   0.132342\n",
      "REORDER_TASKS                     0.128696\n",
      "READ_USER_DICTIONARY              0.128452\n",
      "EXPAND_STATUS_BAR                 0.127376\n",
      "Name: PCA1, dtype: float64\n"
     ]
    }
   ],
   "source": [
    "# Create a DataFrame of feature contributions (loadings)\n",
    "pca_loadings = pd.DataFrame(pca1.components_.T, \n",
    "                            columns=['PCA1', 'PCA2', 'PCA3', 'PCA4', 'PCA5'], \n",
    "                            index=X_final.columns)\n",
    "\n",
    "# Sort by absolute contribution to PCA1\n",
    "top_features = pca_loadings['PCA1'].abs().sort_values(ascending=False)\n",
    "\n",
    "# Display the top 10 contributing features\n",
    "print(top_features.head(10))\n"
   ]
  },
  {
   "cell_type": "markdown",
   "id": "6afa0801-7b84-4c77-a965-00363038eb47",
   "metadata": {},
   "source": [
    "PCA1 explains the most variance and reveals that many features relate to reading user social data, system access, location commands, and user dictionary modifications. `READ_SOCIAL_STREAM` and `SUBSCRIBED_FEEDS_READ` have the highest weights in PCA1. Some other significant features include `PERSISTENT_ACTIVITY`, `ACCESS_LOCATION_EXTRA_COMMANDS`, and `WRITE_USER_DICTIONARY` which are indicative of apps that require extensive background activity or personalization features. Apps with high values in PCA1 are likely to request more instrusive or sensitive permissions. These features, therefore, make sense as strong predictors of malware/goodware classification. "
   ]
  },
  {
   "cell_type": "markdown",
   "id": "c0cf20b2-77d6-484c-b043-d69402d96b93",
   "metadata": {},
   "source": [
    "### 3. Outline and justify a strategy for splitting the dataset into training, validation, and test sets, considering any potential class imbalance and the dataset’s characteristics"
   ]
  },
  {
   "cell_type": "markdown",
   "id": "147a946c-3389-4840-a71c-809a65bc4162",
   "metadata": {},
   "source": [
    "After implemeting SMOTE, it is important to maintain the balance between model performance and ensuring that it is generalizable on unseen data. The inital split is a majority (70%) used for training, allowing the model to learn from a substantial portion of the data while incorporating artificial samples from SMOTE for the minority class. The remaining 30% of the dataset will be reserved for the test set. We implement a stratified split on the dataset where each class is equally represented in both training and test sets. One key issue is that SMOTE can artifically inflate model performance on the test set, distorting our model's generalizability. "
   ]
  }
 ],
 "metadata": {
  "kernelspec": {
   "display_name": "Python 3 (ipykernel)",
   "language": "python",
   "name": "python3"
  },
  "language_info": {
   "codemirror_mode": {
    "name": "ipython",
    "version": 3
   },
   "file_extension": ".py",
   "mimetype": "text/x-python",
   "name": "python",
   "nbconvert_exporter": "python",
   "pygments_lexer": "ipython3",
   "version": "3.9.12"
  }
 },
 "nbformat": 4,
 "nbformat_minor": 5
}
